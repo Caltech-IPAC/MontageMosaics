{
 "cells": [
  {
   "cell_type": "markdown",
   "metadata": {},
   "source": [
    "# Montage Mosaics Demo Notebooks\n",
    "\n",
    "### Beforehand\n",
    "\n",
    "Please sure that you have the Montage Python module installed (\"pip install MontagePy\").  That is the only external dependency.  The MontageMosaics file set includes some other things you need, such as a \"Mosaic.py\" file and some explanatory pop-up text files, so keep the full notebook directory together in one place. "
   ]
  },
  {
   "cell_type": "markdown",
   "metadata": {},
   "source": [
    "### [Basic Archive Mosaic](http://localhost:8888/notebooks/Basic.ipynb)\n",
    "This notebook produces a three-color mosaic of data from a specific archive (the WISE infrared mission) plus instructions for switching to other datasets.  If there are specific variations (dataset, scale, resolution, coordinate system) that are useful to you, clone this example as many times as you like to set that up.  Once you have, you an make new mosaics as simply as changing the object name or coordinates string up front."
   ]
  },
  {
   "cell_type": "markdown",
   "metadata": {},
   "source": [
    "### [Variations on Basic Archive Mosaic](http://localhost:8888/notebooks/Variations.ipynb)\n",
    "\n",
    "Starting with the Basic example above, this page goes on to explore some of the ways to vary the process."
   ]
  },
  {
   "cell_type": "markdown",
   "metadata": {},
   "source": [
    " <img src=\"M51_small.png\"/>\n",
    " \n",
    "### Coming Soon \n",
    "\n",
    "The number and focus of additional notebooks is open-ended.  Here are some of our ideas but we will tailor this effort based on what we here from you:\n",
    "\n",
    " - Mosaicking Your Own Data  --  Given a set of images already in a local directory, determine the best bounding box (mMakeHdr) and mosaic them together.\n",
    "\n",
    " - Mosaicking from Archives to Match Local Data  -- Starting with an image/mosaic of local user data, mosaic archive data to match including.\n",
    "\n",
    " - Cross-Mission Mosaics  -- For instance, a three-color of GLIMPSE, WISE, and MSX.\n",
    "\n",
    " - Visualization with Overlays  -- Using mViewer to show catalog and image metadata overlayed on an image.  This can include coverage information for a set of local images.\n",
    "\n",
    " - Background Image for Catalog Search Results  -- Use TAP to search for catalog sources, then build an archive mosaic to match the coverage of the results (including a search that is all-sky).\n"
   ]
  },
  {
   "cell_type": "markdown",
   "metadata": {},
   "source": [
    "### Contact\n",
    "\n",
    "You can contact us with question or suggestions [here](http://vaoweb3.ipac.caltech.edu/cgi-bin/Helpdesk/nph-genTicketForm?projname=Montage&projmail=montage@ipac.caltech.edu)."
   ]
  },
  {
   "cell_type": "code",
   "execution_count": null,
   "metadata": {},
   "outputs": [],
   "source": []
  }
 ],
 "metadata": {
  "kernelspec": {
   "display_name": "Python 3",
   "language": "python",
   "name": "python3"
  },
  "language_info": {
   "codemirror_mode": {
    "name": "ipython",
    "version": 3
   },
   "file_extension": ".py",
   "mimetype": "text/x-python",
   "name": "python",
   "nbconvert_exporter": "python",
   "pygments_lexer": "ipython3",
   "version": "3.8.5"
  }
 },
 "nbformat": 4,
 "nbformat_minor": 4
}
